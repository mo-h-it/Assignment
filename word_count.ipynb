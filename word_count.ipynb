{
 "cells": [
  {
   "cell_type": "markdown",
   "id": "0eea68dd",
   "metadata": {},
   "source": [
    "### Write a function that accepts a string and returns a mapping (a dictionary or dictionary-like structure) that has words as the keys and the number of times each word was seen as the values."
   ]
  },
  {
   "cell_type": "code",
   "execution_count": 6,
   "id": "7612cb4d",
   "metadata": {},
   "outputs": [
    {
     "name": "stdout",
     "output_type": "stream",
     "text": [
      "4\n"
     ]
    }
   ],
   "source": [
    "##Answer\n",
    "def count_words(x):\n",
    "    x = x.split()\n",
    "    cou = {}\n",
    "    for c in x:\n",
    "        cou[c] = x.count(c)\n",
    "    return cou\n",
    "\n"
   ]
  }
 ],
 "metadata": {
  "kernelspec": {
   "display_name": "Python 3",
   "language": "python",
   "name": "python3"
  },
  "language_info": {
   "codemirror_mode": {
    "name": "ipython",
    "version": 3
   },
   "file_extension": ".py",
   "mimetype": "text/x-python",
   "name": "python",
   "nbconvert_exporter": "python",
   "pygments_lexer": "ipython3",
   "version": "3.8.8"
  }
 },
 "nbformat": 4,
 "nbformat_minor": 5
}
