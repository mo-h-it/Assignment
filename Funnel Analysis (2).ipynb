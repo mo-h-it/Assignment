{
 "cells": [
  {
   "cell_type": "markdown",
   "id": "514944fb",
   "metadata": {},
   "source": [
    "## FUNNEL ANALYSIS"
   ]
  },
  {
   "cell_type": "code",
   "execution_count": 44,
   "id": "6f13efa4",
   "metadata": {},
   "outputs": [],
   "source": [
    "## Loading the libraries \n",
    "import pandas as pd\n",
    "import numpy as np\n"
   ]
  },
  {
   "cell_type": "code",
   "execution_count": 45,
   "id": "62c8e211",
   "metadata": {},
   "outputs": [],
   "source": [
    "##Data load\n",
    "users = pd.read_csv(r'C:\\Users\\Mohit\\OneDrive\\Desktop\\assignment\\Assignment For DA Candidates\\Data Analyst Assignment Part 1\\funnel-analysis\\user_table.csv')\n",
    "home_page = pd.read_csv(r'C:\\Users\\Mohit\\OneDrive\\Desktop\\assignment\\Assignment For DA Candidates\\Data Analyst Assignment Part 1\\funnel-analysis\\home_page_table.csv')\n",
    "search_page= pd.read_csv(r'C:\\Users\\Mohit\\OneDrive\\Desktop\\assignment\\Assignment For DA Candidates\\Data Analyst Assignment Part 1\\funnel-analysis\\search_page_table.csv')\n",
    "payment_page = pd.read_csv(r'C:\\Users\\Mohit\\OneDrive\\Desktop\\assignment\\Assignment For DA Candidates\\Data Analyst Assignment Part 1\\funnel-analysis\\payment_page_table.csv')\n",
    "payment_confirmation = pd.read_csv(r'C:\\Users\\Mohit\\OneDrive\\Desktop\\assignment\\Assignment For DA Candidates\\Data Analyst Assignment Part 1\\funnel-analysis\\payment_confirmation_table.csv')\n"
   ]
  },
  {
   "cell_type": "markdown",
   "id": "f3a88ff8",
   "metadata": {},
   "source": [
    "### Reading Data"
   ]
  },
  {
   "cell_type": "code",
   "execution_count": 46,
   "id": "73c20655",
   "metadata": {},
   "outputs": [
    {
     "data": {
      "text/html": [
       "<div>\n",
       "<style scoped>\n",
       "    .dataframe tbody tr th:only-of-type {\n",
       "        vertical-align: middle;\n",
       "    }\n",
       "\n",
       "    .dataframe tbody tr th {\n",
       "        vertical-align: top;\n",
       "    }\n",
       "\n",
       "    .dataframe thead th {\n",
       "        text-align: right;\n",
       "    }\n",
       "</style>\n",
       "<table border=\"1\" class=\"dataframe\">\n",
       "  <thead>\n",
       "    <tr style=\"text-align: right;\">\n",
       "      <th></th>\n",
       "      <th>user_id</th>\n",
       "      <th>date</th>\n",
       "      <th>device</th>\n",
       "      <th>sex</th>\n",
       "    </tr>\n",
       "  </thead>\n",
       "  <tbody>\n",
       "    <tr>\n",
       "      <th>0</th>\n",
       "      <td>450007</td>\n",
       "      <td>2015-02-28</td>\n",
       "      <td>Desktop</td>\n",
       "      <td>Female</td>\n",
       "    </tr>\n",
       "    <tr>\n",
       "      <th>1</th>\n",
       "      <td>756838</td>\n",
       "      <td>2015-01-13</td>\n",
       "      <td>Desktop</td>\n",
       "      <td>Male</td>\n",
       "    </tr>\n",
       "    <tr>\n",
       "      <th>2</th>\n",
       "      <td>568983</td>\n",
       "      <td>2015-04-09</td>\n",
       "      <td>Desktop</td>\n",
       "      <td>Male</td>\n",
       "    </tr>\n",
       "    <tr>\n",
       "      <th>3</th>\n",
       "      <td>190794</td>\n",
       "      <td>2015-02-18</td>\n",
       "      <td>Desktop</td>\n",
       "      <td>Female</td>\n",
       "    </tr>\n",
       "    <tr>\n",
       "      <th>4</th>\n",
       "      <td>537909</td>\n",
       "      <td>2015-01-15</td>\n",
       "      <td>Desktop</td>\n",
       "      <td>Male</td>\n",
       "    </tr>\n",
       "  </tbody>\n",
       "</table>\n",
       "</div>"
      ],
      "text/plain": [
       "   user_id        date   device     sex\n",
       "0   450007  2015-02-28  Desktop  Female\n",
       "1   756838  2015-01-13  Desktop    Male\n",
       "2   568983  2015-04-09  Desktop    Male\n",
       "3   190794  2015-02-18  Desktop  Female\n",
       "4   537909  2015-01-15  Desktop    Male"
      ]
     },
     "execution_count": 46,
     "metadata": {},
     "output_type": "execute_result"
    }
   ],
   "source": [
    "users.head()"
   ]
  },
  {
   "cell_type": "code",
   "execution_count": 47,
   "id": "4ab31d9b",
   "metadata": {},
   "outputs": [
    {
     "data": {
      "text/plain": [
       "90400"
      ]
     },
     "execution_count": 47,
     "metadata": {},
     "output_type": "execute_result"
    }
   ],
   "source": [
    "##checking for duplicates\n",
    "users['user_id'].nunique()"
   ]
  },
  {
   "cell_type": "code",
   "execution_count": 48,
   "id": "0b69042e",
   "metadata": {},
   "outputs": [
    {
     "data": {
      "text/html": [
       "<div>\n",
       "<style scoped>\n",
       "    .dataframe tbody tr th:only-of-type {\n",
       "        vertical-align: middle;\n",
       "    }\n",
       "\n",
       "    .dataframe tbody tr th {\n",
       "        vertical-align: top;\n",
       "    }\n",
       "\n",
       "    .dataframe thead th {\n",
       "        text-align: right;\n",
       "    }\n",
       "</style>\n",
       "<table border=\"1\" class=\"dataframe\">\n",
       "  <thead>\n",
       "    <tr style=\"text-align: right;\">\n",
       "      <th></th>\n",
       "      <th>user_id</th>\n",
       "      <th>page</th>\n",
       "    </tr>\n",
       "  </thead>\n",
       "  <tbody>\n",
       "    <tr>\n",
       "      <th>0</th>\n",
       "      <td>313593</td>\n",
       "      <td>home_page</td>\n",
       "    </tr>\n",
       "    <tr>\n",
       "      <th>1</th>\n",
       "      <td>468315</td>\n",
       "      <td>home_page</td>\n",
       "    </tr>\n",
       "    <tr>\n",
       "      <th>2</th>\n",
       "      <td>264005</td>\n",
       "      <td>home_page</td>\n",
       "    </tr>\n",
       "    <tr>\n",
       "      <th>3</th>\n",
       "      <td>290784</td>\n",
       "      <td>home_page</td>\n",
       "    </tr>\n",
       "    <tr>\n",
       "      <th>4</th>\n",
       "      <td>639104</td>\n",
       "      <td>home_page</td>\n",
       "    </tr>\n",
       "  </tbody>\n",
       "</table>\n",
       "</div>"
      ],
      "text/plain": [
       "   user_id       page\n",
       "0   313593  home_page\n",
       "1   468315  home_page\n",
       "2   264005  home_page\n",
       "3   290784  home_page\n",
       "4   639104  home_page"
      ]
     },
     "execution_count": 48,
     "metadata": {},
     "output_type": "execute_result"
    }
   ],
   "source": [
    "home_page.head()\n"
   ]
  },
  {
   "cell_type": "code",
   "execution_count": 49,
   "id": "82ac7551",
   "metadata": {},
   "outputs": [
    {
     "data": {
      "text/html": [
       "<div>\n",
       "<style scoped>\n",
       "    .dataframe tbody tr th:only-of-type {\n",
       "        vertical-align: middle;\n",
       "    }\n",
       "\n",
       "    .dataframe tbody tr th {\n",
       "        vertical-align: top;\n",
       "    }\n",
       "\n",
       "    .dataframe thead th {\n",
       "        text-align: right;\n",
       "    }\n",
       "</style>\n",
       "<table border=\"1\" class=\"dataframe\">\n",
       "  <thead>\n",
       "    <tr style=\"text-align: right;\">\n",
       "      <th></th>\n",
       "      <th>user_id</th>\n",
       "      <th>page</th>\n",
       "    </tr>\n",
       "  </thead>\n",
       "  <tbody>\n",
       "    <tr>\n",
       "      <th>0</th>\n",
       "      <td>15866</td>\n",
       "      <td>search_page</td>\n",
       "    </tr>\n",
       "    <tr>\n",
       "      <th>1</th>\n",
       "      <td>347058</td>\n",
       "      <td>search_page</td>\n",
       "    </tr>\n",
       "    <tr>\n",
       "      <th>2</th>\n",
       "      <td>577020</td>\n",
       "      <td>search_page</td>\n",
       "    </tr>\n",
       "    <tr>\n",
       "      <th>3</th>\n",
       "      <td>780347</td>\n",
       "      <td>search_page</td>\n",
       "    </tr>\n",
       "    <tr>\n",
       "      <th>4</th>\n",
       "      <td>383739</td>\n",
       "      <td>search_page</td>\n",
       "    </tr>\n",
       "  </tbody>\n",
       "</table>\n",
       "</div>"
      ],
      "text/plain": [
       "   user_id         page\n",
       "0    15866  search_page\n",
       "1   347058  search_page\n",
       "2   577020  search_page\n",
       "3   780347  search_page\n",
       "4   383739  search_page"
      ]
     },
     "execution_count": 49,
     "metadata": {},
     "output_type": "execute_result"
    }
   ],
   "source": [
    "search_page.head()"
   ]
  },
  {
   "cell_type": "code",
   "execution_count": 50,
   "id": "2f47649f",
   "metadata": {},
   "outputs": [
    {
     "data": {
      "text/html": [
       "<div>\n",
       "<style scoped>\n",
       "    .dataframe tbody tr th:only-of-type {\n",
       "        vertical-align: middle;\n",
       "    }\n",
       "\n",
       "    .dataframe tbody tr th {\n",
       "        vertical-align: top;\n",
       "    }\n",
       "\n",
       "    .dataframe thead th {\n",
       "        text-align: right;\n",
       "    }\n",
       "</style>\n",
       "<table border=\"1\" class=\"dataframe\">\n",
       "  <thead>\n",
       "    <tr style=\"text-align: right;\">\n",
       "      <th></th>\n",
       "      <th>user_id</th>\n",
       "      <th>page</th>\n",
       "    </tr>\n",
       "  </thead>\n",
       "  <tbody>\n",
       "    <tr>\n",
       "      <th>0</th>\n",
       "      <td>253019</td>\n",
       "      <td>payment_page</td>\n",
       "    </tr>\n",
       "    <tr>\n",
       "      <th>1</th>\n",
       "      <td>310478</td>\n",
       "      <td>payment_page</td>\n",
       "    </tr>\n",
       "    <tr>\n",
       "      <th>2</th>\n",
       "      <td>304081</td>\n",
       "      <td>payment_page</td>\n",
       "    </tr>\n",
       "    <tr>\n",
       "      <th>3</th>\n",
       "      <td>901286</td>\n",
       "      <td>payment_page</td>\n",
       "    </tr>\n",
       "    <tr>\n",
       "      <th>4</th>\n",
       "      <td>195052</td>\n",
       "      <td>payment_page</td>\n",
       "    </tr>\n",
       "  </tbody>\n",
       "</table>\n",
       "</div>"
      ],
      "text/plain": [
       "   user_id          page\n",
       "0   253019  payment_page\n",
       "1   310478  payment_page\n",
       "2   304081  payment_page\n",
       "3   901286  payment_page\n",
       "4   195052  payment_page"
      ]
     },
     "execution_count": 50,
     "metadata": {},
     "output_type": "execute_result"
    }
   ],
   "source": [
    "payment_page.head()"
   ]
  },
  {
   "cell_type": "code",
   "execution_count": 51,
   "id": "5e3d206a",
   "metadata": {},
   "outputs": [
    {
     "data": {
      "text/html": [
       "<div>\n",
       "<style scoped>\n",
       "    .dataframe tbody tr th:only-of-type {\n",
       "        vertical-align: middle;\n",
       "    }\n",
       "\n",
       "    .dataframe tbody tr th {\n",
       "        vertical-align: top;\n",
       "    }\n",
       "\n",
       "    .dataframe thead th {\n",
       "        text-align: right;\n",
       "    }\n",
       "</style>\n",
       "<table border=\"1\" class=\"dataframe\">\n",
       "  <thead>\n",
       "    <tr style=\"text-align: right;\">\n",
       "      <th></th>\n",
       "      <th>user_id</th>\n",
       "      <th>page</th>\n",
       "    </tr>\n",
       "  </thead>\n",
       "  <tbody>\n",
       "    <tr>\n",
       "      <th>0</th>\n",
       "      <td>123100</td>\n",
       "      <td>payment_confirmation_page</td>\n",
       "    </tr>\n",
       "    <tr>\n",
       "      <th>1</th>\n",
       "      <td>704999</td>\n",
       "      <td>payment_confirmation_page</td>\n",
       "    </tr>\n",
       "    <tr>\n",
       "      <th>2</th>\n",
       "      <td>407188</td>\n",
       "      <td>payment_confirmation_page</td>\n",
       "    </tr>\n",
       "    <tr>\n",
       "      <th>3</th>\n",
       "      <td>538348</td>\n",
       "      <td>payment_confirmation_page</td>\n",
       "    </tr>\n",
       "    <tr>\n",
       "      <th>4</th>\n",
       "      <td>841681</td>\n",
       "      <td>payment_confirmation_page</td>\n",
       "    </tr>\n",
       "  </tbody>\n",
       "</table>\n",
       "</div>"
      ],
      "text/plain": [
       "   user_id                       page\n",
       "0   123100  payment_confirmation_page\n",
       "1   704999  payment_confirmation_page\n",
       "2   407188  payment_confirmation_page\n",
       "3   538348  payment_confirmation_page\n",
       "4   841681  payment_confirmation_page"
      ]
     },
     "execution_count": 51,
     "metadata": {},
     "output_type": "execute_result"
    }
   ],
   "source": [
    "payment_confirmation.head()"
   ]
  },
  {
   "cell_type": "markdown",
   "id": "6b015ef1",
   "metadata": {},
   "source": [
    "### Ploting a funnel chart to see user conversion rate."
   ]
  },
  {
   "cell_type": "code",
   "execution_count": 52,
   "id": "07c909c3",
   "metadata": {},
   "outputs": [
    {
     "data": {
      "image/png": "[encoded data removed]"
     },
     "metadata": {},
     "output_type": "display_data"
    }
   ],
   "source": [
    "import plotly.express as px\n",
    "data = dict(\n",
    "    number=[users.count()[0],home_page.count()[0], search_page.count()[0], payment_page.count()[0], payment_confirmation.count()[0]],\n",
    "    stage=[\"Users\", \"Home Page\", \"Search Page\", \"Payment Page\", \"Payment confirmation\"])\n",
    "fig = px.funnel(data, x='number', y='stage')\n",
    "fig.show(\"png\")"
   ]
  },
  {
   "cell_type": "markdown",
   "id": "81eac8d5",
   "metadata": {},
   "source": [
    "#### As we can see that the conversion rate is only 0.5%. Need to Analyse for other factors."
   ]
  },
  {
   "cell_type": "markdown",
   "id": "9972ca34",
   "metadata": {},
   "source": [
    "### Joining all the datasets with users."
   ]
  },
  {
   "cell_type": "code",
   "execution_count": 53,
   "id": "d2a11a43",
   "metadata": {},
   "outputs": [],
   "source": [
    "p = pd.merge(users,home_page, on='user_id', how='right')\n",
    "c = pd.merge(users,search_page, on='user_id', how='right')\n",
    "s = pd.merge(users,payment_page, on='user_id', how='right')\n",
    "t = pd.merge(users,payment_confirmation, on='user_id', how='right')"
   ]
  },
  {
   "cell_type": "markdown",
   "id": "70d7ed72",
   "metadata": {},
   "source": [
    "### Analysing on the basis of Sex."
   ]
  },
  {
   "cell_type": "code",
   "execution_count": 54,
   "id": "b655cfd3",
   "metadata": {},
   "outputs": [
    {
     "data": {
      "image/png": "[encoded data removed]"
     },
     "metadata": {},
     "output_type": "display_data"
    }
   ],
   "source": [
    "data = dict(Quantity=[p[p['sex']=='Male'].count()[0],c[c['sex']=='Male'].count()[0],s[s['sex']=='Male'].count()[0],t[t['sex']=='Male'].count()[0],p[p['sex']=='Female'].count()[0],c[c['sex']=='Female'].count()[0],s[s['sex']=='Female'].count()[0],t[t['sex']=='Female'].count()[0]],\n",
    "    \n",
    "            Stage=[\"Home Page\", \"Search Page\", \"Payment Page\",\"Payment confirmation\"]*2,\n",
    "    \n",
    "            Sex=['Male']*4 + ['Female']*4)\n",
    "    \n",
    "fig = px.funnel(data, y='Stage', x='Quantity', color='Sex',\n",
    "                color_discrete_map={\"Tatooine\": \"#374B53\", \n",
    "                                    \"Mandalore\": \"#617588\"},\n",
    "                template=\"simple_white\",\n",
    "                title='User conversion chart on the basis of Sex',\n",
    "                labels={\"Stage\": \"\"})\n",
    "fig.show(\"png\")"
   ]
  },
  {
   "cell_type": "markdown",
   "id": "5157627f",
   "metadata": {},
   "source": [
    "#### As we can see sex does not have any such impact on conversion rate, the ratio of both sexes is quite equal. Now we will check if device can provide us some conclusive detail."
   ]
  },
  {
   "cell_type": "code",
   "execution_count": 55,
   "id": "52418933",
   "metadata": {},
   "outputs": [
    {
     "data": {
      "image/png": "[encoded data removed]"
     },
     "metadata": {},
     "output_type": "display_data"
    }
   ],
   "source": [
    "data = dict(Quantity=[p[p['device']=='Desktop'].count()[0],c[c['device']=='Desktop'].count()[0],s[s['device']=='Desktop'].count()[0],t[t['device']=='Desktop'].count()[0],p[p['device']=='Mobile'].count()[0],c[c['device']=='Mobile'].count()[0],s[s['device']=='Mobile'].count()[0],t[t['device']=='Mobile'].count()[0]],\n",
    "    \n",
    "            Stage=[\"Home Page\", \"Search Page\", \"Payment Page\",\"Payment confirmation\"]*2,\n",
    "    \n",
    "            Device=['Desktop']*4 + ['Mobile']*4)\n",
    "    \n",
    "fig = px.funnel(data, y='Stage', x='Quantity', color='Device',\n",
    "                color_discrete_map={\"Tatooine\": \"#374B53\", \n",
    "                                    \"Mandalore\": \"#617588\"},\n",
    "                template=\"simple_white\",\n",
    "                title='User conversion chart on the basis of Device',\n",
    "                labels={\"Stage\": \"\"})\n",
    "fig.show(\"png\")\n"
   ]
  },
  {
   "cell_type": "markdown",
   "id": "b74ccc38",
   "metadata": {},
   "source": [
    "### So, almost 2/3 users are desktop users however, the conversion rate of mobile app users is twice more than desktop users."
   ]
  },
  {
   "cell_type": "markdown",
   "id": "85a4ace3",
   "metadata": {},
   "source": [
    "- ### The product team need to focus on the experience of their Desktop users specially on the payment page, as we have seen that both desktop and mobile app user's ratio was same on payment page but mobile app users confirmed payment twice more than desktop users."
   ]
  },
  {
   "cell_type": "code",
   "execution_count": null,
   "id": "582c7dee",
   "metadata": {},
   "outputs": [],
   "source": []
  }
 ],
 "metadata": {
  "kernelspec": {
   "display_name": "Python 3",
   "language": "python",
   "name": "python3"
  },
  "language_info": {
   "codemirror_mode": {
    "name": "ipython",
    "version": 3
   },
   "file_extension": ".py",
   "mimetype": "text/x-python",
   "name": "python",
   "nbconvert_exporter": "python",
   "pygments_lexer": "ipython3",
   "version": "3.8.8"
  }
 },
 "nbformat": 4,
 "nbformat_minor": 5
}
