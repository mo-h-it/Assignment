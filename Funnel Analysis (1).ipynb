{
 "cells": [
  {
   "cell_type": "markdown",
   "id": "514944fb",
   "metadata": {},
   "source": [
    "## FUNNEL ANALYSIS"
   ]
  },
  {
   "cell_type": "code",
   "execution_count": 32,
   "id": "6f13efa4",
   "metadata": {},
   "outputs": [],
   "source": [
    "## Loading the libraries \n",
    "import pandas as pd\n",
    "import numpy as np\n"
   ]
  },
  {
   "cell_type": "code",
   "execution_count": 33,
   "id": "62c8e211",
   "metadata": {},
   "outputs": [],
   "source": [
    "##Data load\n",
    "users = pd.read_csv(r'C:\\Users\\Mohit\\OneDrive\\Desktop\\assignment\\Assignment For DA Candidates\\Data Analyst Assignment Part 1\\funnel-analysis\\user_table.csv')\n",
    "home_page = pd.read_csv(r'C:\\Users\\Mohit\\OneDrive\\Desktop\\assignment\\Assignment For DA Candidates\\Data Analyst Assignment Part 1\\funnel-analysis\\home_page_table.csv')\n",
    "search_page= pd.read_csv(r'C:\\Users\\Mohit\\OneDrive\\Desktop\\assignment\\Assignment For DA Candidates\\Data Analyst Assignment Part 1\\funnel-analysis\\search_page_table.csv')\n",
    "payment_page = pd.read_csv(r'C:\\Users\\Mohit\\OneDrive\\Desktop\\assignment\\Assignment For DA Candidates\\Data Analyst Assignment Part 1\\funnel-analysis\\payment_page_table.csv')\n",
    "payment_confirmation = pd.read_csv(r'C:\\Users\\Mohit\\OneDrive\\Desktop\\assignment\\Assignment For DA Candidates\\Data Analyst Assignment Part 1\\funnel-analysis\\payment_confirmation_table.csv')\n"
   ]
  },
  {
   "cell_type": "markdown",
   "id": "f3a88ff8",
   "metadata": {},
   "source": [
    "### Reading Data"
   ]
  },
  {
   "cell_type": "code",
   "execution_count": 34,
   "id": "73c20655",
   "metadata": {},
   "outputs": [
    {
     "data": {
      "text/html": [
       "<div>\n",
       "<style scoped>\n",
       "    .dataframe tbody tr th:only-of-type {\n",
       "        vertical-align: middle;\n",
       "    }\n",
       "\n",
       "    .dataframe tbody tr th {\n",
       "        vertical-align: top;\n",
       "    }\n",
       "\n",
       "    .dataframe thead th {\n",
       "        text-align: right;\n",
       "    }\n",
       "</style>\n",
       "<table border=\"1\" class=\"dataframe\">\n",
       "  <thead>\n",
       "    <tr style=\"text-align: right;\">\n",
       "      <th></th>\n",
       "      <th>user_id</th>\n",
       "      <th>date</th>\n",
       "      <th>device</th>\n",
       "      <th>sex</th>\n",
       "    </tr>\n",
       "  </thead>\n",
       "  <tbody>\n",
       "    <tr>\n",
       "      <th>0</th>\n",
       "      <td>450007</td>\n",
       "      <td>2015-02-28</td>\n",
       "      <td>Desktop</td>\n",
       "      <td>Female</td>\n",
       "    </tr>\n",
       "    <tr>\n",
       "      <th>1</th>\n",
       "      <td>756838</td>\n",
       "      <td>2015-01-13</td>\n",
       "      <td>Desktop</td>\n",
       "      <td>Male</td>\n",
       "    </tr>\n",
       "    <tr>\n",
       "      <th>2</th>\n",
       "      <td>568983</td>\n",
       "      <td>2015-04-09</td>\n",
       "      <td>Desktop</td>\n",
       "      <td>Male</td>\n",
       "    </tr>\n",
       "    <tr>\n",
       "      <th>3</th>\n",
       "      <td>190794</td>\n",
       "      <td>2015-02-18</td>\n",
       "      <td>Desktop</td>\n",
       "      <td>Female</td>\n",
       "    </tr>\n",
       "    <tr>\n",
       "      <th>4</th>\n",
       "      <td>537909</td>\n",
       "      <td>2015-01-15</td>\n",
       "      <td>Desktop</td>\n",
       "      <td>Male</td>\n",
       "    </tr>\n",
       "  </tbody>\n",
       "</table>\n",
       "</div>"
      ],
      "text/plain": [
       "   user_id        date   device     sex\n",
       "0   450007  2015-02-28  Desktop  Female\n",
       "1   756838  2015-01-13  Desktop    Male\n",
       "2   568983  2015-04-09  Desktop    Male\n",
       "3   190794  2015-02-18  Desktop  Female\n",
       "4   537909  2015-01-15  Desktop    Male"
      ]
     },
     "execution_count": 34,
     "metadata": {},
     "output_type": "execute_result"
    }
   ],
   "source": [
    "users.head()"
   ]
  },
  {
   "cell_type": "code",
   "execution_count": 35,
   "id": "4ab31d9b",
   "metadata": {},
   "outputs": [
    {
     "data": {
      "text/plain": [
       "90400"
      ]
     },
     "execution_count": 35,
     "metadata": {},
     "output_type": "execute_result"
    }
   ],
   "source": [
    "##checking for duplicates\n",
    "users['user_id'].nunique()"
   ]
  },
  {
   "cell_type": "code",
   "execution_count": 36,
   "id": "0b69042e",
   "metadata": {},
   "outputs": [
    {
     "data": {
      "text/html": [
       "<div>\n",
       "<style scoped>\n",
       "    .dataframe tbody tr th:only-of-type {\n",
       "        vertical-align: middle;\n",
       "    }\n",
       "\n",
       "    .dataframe tbody tr th {\n",
       "        vertical-align: top;\n",
       "    }\n",
       "\n",
       "    .dataframe thead th {\n",
       "        text-align: right;\n",
       "    }\n",
       "</style>\n",
       "<table border=\"1\" class=\"dataframe\">\n",
       "  <thead>\n",
       "    <tr style=\"text-align: right;\">\n",
       "      <th></th>\n",
       "      <th>user_id</th>\n",
       "      <th>page</th>\n",
       "    </tr>\n",
       "  </thead>\n",
       "  <tbody>\n",
       "    <tr>\n",
       "      <th>0</th>\n",
       "      <td>313593</td>\n",
       "      <td>home_page</td>\n",
       "    </tr>\n",
       "    <tr>\n",
       "      <th>1</th>\n",
       "      <td>468315</td>\n",
       "      <td>home_page</td>\n",
       "    </tr>\n",
       "    <tr>\n",
       "      <th>2</th>\n",
       "      <td>264005</td>\n",
       "      <td>home_page</td>\n",
       "    </tr>\n",
       "    <tr>\n",
       "      <th>3</th>\n",
       "      <td>290784</td>\n",
       "      <td>home_page</td>\n",
       "    </tr>\n",
       "    <tr>\n",
       "      <th>4</th>\n",
       "      <td>639104</td>\n",
       "      <td>home_page</td>\n",
       "    </tr>\n",
       "  </tbody>\n",
       "</table>\n",
       "</div>"
      ],
      "text/plain": [
       "   user_id       page\n",
       "0   313593  home_page\n",
       "1   468315  home_page\n",
       "2   264005  home_page\n",
       "3   290784  home_page\n",
       "4   639104  home_page"
      ]
     },
     "execution_count": 36,
     "metadata": {},
     "output_type": "execute_result"
    }
   ],
   "source": [
    "home_page.head()\n"
   ]
  },
  {
   "cell_type": "code",
   "execution_count": 37,
   "id": "82ac7551",
   "metadata": {},
   "outputs": [
    {
     "data": {
      "text/html": [
       "<div>\n",
       "<style scoped>\n",
       "    .dataframe tbody tr th:only-of-type {\n",
       "        vertical-align: middle;\n",
       "    }\n",
       "\n",
       "    .dataframe tbody tr th {\n",
       "        vertical-align: top;\n",
       "    }\n",
       "\n",
       "    .dataframe thead th {\n",
       "        text-align: right;\n",
       "    }\n",
       "</style>\n",
       "<table border=\"1\" class=\"dataframe\">\n",
       "  <thead>\n",
       "    <tr style=\"text-align: right;\">\n",
       "      <th></th>\n",
       "      <th>user_id</th>\n",
       "      <th>page</th>\n",
       "    </tr>\n",
       "  </thead>\n",
       "  <tbody>\n",
       "    <tr>\n",
       "      <th>0</th>\n",
       "      <td>15866</td>\n",
       "      <td>search_page</td>\n",
       "    </tr>\n",
       "    <tr>\n",
       "      <th>1</th>\n",
       "      <td>347058</td>\n",
       "      <td>search_page</td>\n",
       "    </tr>\n",
       "    <tr>\n",
       "      <th>2</th>\n",
       "      <td>577020</td>\n",
       "      <td>search_page</td>\n",
       "    </tr>\n",
       "    <tr>\n",
       "      <th>3</th>\n",
       "      <td>780347</td>\n",
       "      <td>search_page</td>\n",
       "    </tr>\n",
       "    <tr>\n",
       "      <th>4</th>\n",
       "      <td>383739</td>\n",
       "      <td>search_page</td>\n",
       "    </tr>\n",
       "  </tbody>\n",
       "</table>\n",
       "</div>"
      ],
      "text/plain": [
       "   user_id         page\n",
       "0    15866  search_page\n",
       "1   347058  search_page\n",
       "2   577020  search_page\n",
       "3   780347  search_page\n",
       "4   383739  search_page"
      ]
     },
     "execution_count": 37,
     "metadata": {},
     "output_type": "execute_result"
    }
   ],
   "source": [
    "search_page.head()"
   ]
  },
  {
   "cell_type": "code",
   "execution_count": 38,
   "id": "2f47649f",
   "metadata": {},
   "outputs": [
    {
     "data": {
      "text/html": [
       "<div>\n",
       "<style scoped>\n",
       "    .dataframe tbody tr th:only-of-type {\n",
       "        vertical-align: middle;\n",
       "    }\n",
       "\n",
       "    .dataframe tbody tr th {\n",
       "        vertical-align: top;\n",
       "    }\n",
       "\n",
       "    .dataframe thead th {\n",
       "        text-align: right;\n",
       "    }\n",
       "</style>\n",
       "<table border=\"1\" class=\"dataframe\">\n",
       "  <thead>\n",
       "    <tr style=\"text-align: right;\">\n",
       "      <th></th>\n",
       "      <th>user_id</th>\n",
       "      <th>page</th>\n",
       "    </tr>\n",
       "  </thead>\n",
       "  <tbody>\n",
       "    <tr>\n",
       "      <th>0</th>\n",
       "      <td>253019</td>\n",
       "      <td>payment_page</td>\n",
       "    </tr>\n",
       "    <tr>\n",
       "      <th>1</th>\n",
       "      <td>310478</td>\n",
       "      <td>payment_page</td>\n",
       "    </tr>\n",
       "    <tr>\n",
       "      <th>2</th>\n",
       "      <td>304081</td>\n",
       "      <td>payment_page</td>\n",
       "    </tr>\n",
       "    <tr>\n",
       "      <th>3</th>\n",
       "      <td>901286</td>\n",
       "      <td>payment_page</td>\n",
       "    </tr>\n",
       "    <tr>\n",
       "      <th>4</th>\n",
       "      <td>195052</td>\n",
       "      <td>payment_page</td>\n",
       "    </tr>\n",
       "  </tbody>\n",
       "</table>\n",
       "</div>"
      ],
      "text/plain": [
       "   user_id          page\n",
       "0   253019  payment_page\n",
       "1   310478  payment_page\n",
       "2   304081  payment_page\n",
       "3   901286  payment_page\n",
       "4   195052  payment_page"
      ]
     },
     "execution_count": 38,
     "metadata": {},
     "output_type": "execute_result"
    }
   ],
   "source": [
    "payment_page.head()"
   ]
  },
  {
   "cell_type": "code",
   "execution_count": 39,
   "id": "5e3d206a",
   "metadata": {},
   "outputs": [
    {
     "data": {
      "text/html": [
       "<div>\n",
       "<style scoped>\n",
       "    .dataframe tbody tr th:only-of-type {\n",
       "        vertical-align: middle;\n",
       "    }\n",
       "\n",
       "    .dataframe tbody tr th {\n",
       "        vertical-align: top;\n",
       "    }\n",
       "\n",
       "    .dataframe thead th {\n",
       "        text-align: right;\n",
       "    }\n",
       "</style>\n",
       "<table border=\"1\" class=\"dataframe\">\n",
       "  <thead>\n",
       "    <tr style=\"text-align: right;\">\n",
       "      <th></th>\n",
       "      <th>user_id</th>\n",
       "      <th>page</th>\n",
       "    </tr>\n",
       "  </thead>\n",
       "  <tbody>\n",
       "    <tr>\n",
       "      <th>0</th>\n",
       "      <td>123100</td>\n",
       "      <td>payment_confirmation_page</td>\n",
       "    </tr>\n",
       "    <tr>\n",
       "      <th>1</th>\n",
       "      <td>704999</td>\n",
       "      <td>payment_confirmation_page</td>\n",
       "    </tr>\n",
       "    <tr>\n",
       "      <th>2</th>\n",
       "      <td>407188</td>\n",
       "      <td>payment_confirmation_page</td>\n",
       "    </tr>\n",
       "    <tr>\n",
       "      <th>3</th>\n",
       "      <td>538348</td>\n",
       "      <td>payment_confirmation_page</td>\n",
       "    </tr>\n",
       "    <tr>\n",
       "      <th>4</th>\n",
       "      <td>841681</td>\n",
       "      <td>payment_confirmation_page</td>\n",
       "    </tr>\n",
       "  </tbody>\n",
       "</table>\n",
       "</div>"
      ],
      "text/plain": [
       "   user_id                       page\n",
       "0   123100  payment_confirmation_page\n",
       "1   704999  payment_confirmation_page\n",
       "2   407188  payment_confirmation_page\n",
       "3   538348  payment_confirmation_page\n",
       "4   841681  payment_confirmation_page"
      ]
     },
     "execution_count": 39,
     "metadata": {},
     "output_type": "execute_result"
    }
   ],
   "source": [
    "payment_confirmation.head()"
   ]
  },
  {
   "cell_type": "markdown",
   "id": "6b015ef1",
   "metadata": {},
   "source": [
    "### Ploting a funnel chart to see user conversion rate."
   ]
  },
  {
   "cell_type": "code",
   "execution_count": 40,
   "id": "07c909c3",
   "metadata": {},
   "outputs": [
    {
     "data": {
      "image/svg+xml": [
       "<svg class=\"main-svg\" xmlns=\"http://www.w3.org/2000/svg\" xmlns:xlink=\"http://www.w3.org/1999/xlink\" width=\"700\" height=\"500\" style=\"\" viewBox=\"0 0 700 500\"><rect x=\"0\" y=\"0\" width=\"700\" height=\"500\" style=\"fill: rgb(255, 255, 255); fill-opacity: 1;\"/><defs id=\"defs-2d5654\"><g class=\"clips\"><clipPath id=\"clip2d5654xyplot\" class=\"plotclip\"><rect width=\"450\" height=\"360\"/></clipPath><clipPath class=\"axesclip\" id=\"clip2d5654x\"><rect x=\"170\" y=\"0\" width=\"450\" height=\"500\"/></clipPath><clipPath class=\"axesclip\" id=\"clip2d5654y\"><rect x=\"0\" y=\"60\" width=\"700\" height=\"360\"/></clipPath><clipPath class=\"axesclip\" id=\"clip2d5654xy\"><rect x=\"170\" y=\"60\" width=\"450\" height=\"360\"/></clipPath></g><g class=\"gradients\"/><g class=\"patterns\"/></defs><g class=\"bglayer\"><rect class=\"bg\" x=\"170\" y=\"60\" width=\"450\" height=\"360\" style=\"fill: rgb(229, 236, 246); fill-opacity: 1; stroke-width: 0;\"/></g><g class=\"layer-below\"><g class=\"imagelayer\"/><g class=\"shapelayer\"/></g><g class=\"cartesianlayer\"><g class=\"subplot xy\"><g class=\"layer-subplot\"><g class=\"shapelayer\"/><g class=\"imagelayer\"/></g><g class=\"gridlayer\"><g class=\"x\"/><g class=\"y\"/></g><g class=\"zerolinelayer\"/><path class=\"xlines-below\"/><path class=\"ylines-below\"/><g class=\"overlines-below\"/><g class=\"xaxislayer-below\"/><g class=\"yaxislayer-below\"/><g class=\"overaxes-below\"/><g class=\"plot\" transform=\"translate(170,60)\" clip-path=\"url(#clip2d5654xyplot)\"><g class=\"funnellayer mlayer\"><g class=\"trace bars\" style=\"opacity: 1;\"><g class=\"regions\"><g class=\"region\"><path d=\"M22.5,64.8L22.5,79.2H427.5L427.5,64.8Z\" style=\"stroke-width: 0; fill: rgb(99, 110, 250); fill-opacity: 0.5;\"/></g><g class=\"region\"><path d=\"M22.5,136.8L123.75,151.2H326.25L427.5,136.8Z\" style=\"stroke-width: 0; fill: rgb(99, 110, 250); fill-opacity: 0.5;\"/></g><g class=\"region\"><path d=\"M123.75,208.8L211.49,223.2H238.51L326.25,208.8Z\" style=\"stroke-width: 0; fill: rgb(99, 110, 250); fill-opacity: 0.5;\"/></g><g class=\"region\"><path d=\"M211.49,280.8L223.99,295.2H226.01L238.51,280.8Z\" style=\"stroke-width: 0; fill: rgb(99, 110, 250); fill-opacity: 0.5;\"/></g><g class=\"region\"><path d=\"M0,0Z\" style=\"stroke-width: 0; fill: rgb(99, 110, 250); fill-opacity: 0.5;\"/></g></g><g class=\"points\"><g class=\"point\"><path d=\"M22.5,7.2V64.8H427.5V7.2Z\" style=\"vector-effect: non-scaling-stroke; fill: rgb(99, 110, 250); fill-opacity: 1; stroke: rgb(68, 68, 68); stroke-opacity: 1; stroke-width: 0px; opacity: 1;\"/><text class=\"bartext bartext-inside\" text-anchor=\"middle\" data-notex=\"1\" x=\"0\" y=\"0\" style=\"font-family: 'Open Sans', verdana, arial, sans-serif; font-size: 12px; fill: rgb(255, 255, 255); fill-opacity: 1; white-space: pre;\" transform=\"translate(224.5546875,40.5)\">90.4k</text></g><g class=\"point\"><path d=\"M22.5,79.2V136.8H427.5V79.2Z\" style=\"vector-effect: non-scaling-stroke; fill: rgb(99, 110, 250); fill-opacity: 1; stroke: rgb(68, 68, 68); stroke-opacity: 1; stroke-width: 0px; opacity: 1;\"/><text class=\"bartext bartext-inside\" text-anchor=\"middle\" data-notex=\"1\" x=\"0\" y=\"0\" style=\"font-family: 'Open Sans', verdana, arial, sans-serif; font-size: 12px; fill: rgb(255, 255, 255); fill-opacity: 1; white-space: pre;\" transform=\"translate(224.5546875,112.5)\">90.4k</text></g><g class=\"point\"><path d=\"M123.75,151.2V208.8H326.25V151.2Z\" style=\"vector-effect: non-scaling-stroke; fill: rgb(99, 110, 250); fill-opacity: 1; stroke: rgb(68, 68, 68); stroke-opacity: 1; stroke-width: 0px; opacity: 1;\"/><text class=\"bartext bartext-inside\" text-anchor=\"middle\" data-notex=\"1\" x=\"0\" y=\"0\" style=\"font-family: 'Open Sans', verdana, arial, sans-serif; font-size: 12px; fill: rgb(255, 255, 255); fill-opacity: 1; white-space: pre;\" transform=\"translate(224.5546875,184.5)\">45.2k</text></g><g class=\"point\"><path d=\"M211.49,223.2V280.8H238.51V223.2Z\" style=\"vector-effect: non-scaling-stroke; fill: rgb(99, 110, 250); fill-opacity: 1; stroke: rgb(68, 68, 68); stroke-opacity: 1; stroke-width: 0px; opacity: 1;\"/><text class=\"bartext bartext-inside\" text-anchor=\"middle\" data-notex=\"1\" x=\"0\" y=\"0\" style=\"font-family: 'Open Sans', verdana, arial, sans-serif; font-size: 12px; fill: rgb(255, 255, 255); fill-opacity: 1; white-space: pre;\" transform=\"translate(224.87247724974722,255.06054600606674)scale(0.6801213346814958)\">6030</text></g><g class=\"point\"><path d=\"M223.99,295.2V352.8H226.01V295.2Z\" style=\"vector-effect: non-scaling-stroke; fill: rgb(99, 110, 250); fill-opacity: 1; stroke: rgb(68, 68, 68); stroke-opacity: 1; stroke-width: 0px; opacity: 1;\"/><text class=\"bartext bartext-outside\" text-anchor=\"middle\" data-notex=\"1\" x=\"0\" y=\"0\" style=\"font-family: 'Open Sans', verdana, arial, sans-serif; font-size: 12px; fill: rgb(42, 63, 95); fill-opacity: 1; white-space: pre;\" transform=\"translate(240.463125,328.5)\">452</text></g></g></g></g></g><g class=\"overplot\"/><path class=\"xlines-above crisp\" d=\"M0,0\" style=\"fill: none;\"/><path class=\"ylines-above crisp\" d=\"M0,0\" style=\"fill: none;\"/><g class=\"overlines-above\"/><g class=\"xaxislayer-above\"/><g class=\"yaxislayer-above\"><g class=\"ytick\"><text text-anchor=\"end\" x=\"169\" y=\"4.199999999999999\" transform=\"translate(0,384)\" style=\"font-family: 'Open Sans', verdana, arial, sans-serif; font-size: 12px; fill: rgb(42, 63, 95); fill-opacity: 1; white-space: pre; opacity: 1;\">Payment confirmation</text></g><g class=\"ytick\"><text text-anchor=\"end\" x=\"169\" y=\"4.199999999999999\" transform=\"translate(0,312)\" style=\"font-family: 'Open Sans', verdana, arial, sans-serif; font-size: 12px; fill: rgb(42, 63, 95); fill-opacity: 1; white-space: pre; opacity: 1;\">Payment Page</text></g><g class=\"ytick\"><text text-anchor=\"end\" x=\"169\" y=\"4.199999999999999\" transform=\"translate(0,240)\" style=\"font-family: 'Open Sans', verdana, arial, sans-serif; font-size: 12px; fill: rgb(42, 63, 95); fill-opacity: 1; white-space: pre; opacity: 1;\">Search Page</text></g><g class=\"ytick\"><text text-anchor=\"end\" x=\"169\" y=\"4.199999999999999\" transform=\"translate(0,168)\" style=\"font-family: 'Open Sans', verdana, arial, sans-serif; font-size: 12px; fill: rgb(42, 63, 95); fill-opacity: 1; white-space: pre; opacity: 1;\">Home Page</text></g><g class=\"ytick\"><text text-anchor=\"end\" x=\"169\" y=\"4.199999999999999\" transform=\"translate(0,96)\" style=\"font-family: 'Open Sans', verdana, arial, sans-serif; font-size: 12px; fill: rgb(42, 63, 95); fill-opacity: 1; white-space: pre; opacity: 1;\">Users</text></g></g><g class=\"overaxes-above\"/></g></g><g class=\"polarlayer\"/><g class=\"smithlayer\"/><g class=\"ternarylayer\"/><g class=\"geolayer\"/><g class=\"funnelarealayer\"/><g class=\"pielayer\"/><g class=\"iciclelayer\"/><g class=\"treemaplayer\"/><g class=\"sunburstlayer\"/><g class=\"glimages\"/><defs id=\"topdefs-2d5654\"><g class=\"clips\"/></defs><g class=\"layer-above\"><g class=\"imagelayer\"/><g class=\"shapelayer\"/></g><g class=\"infolayer\"><g class=\"g-gtitle\"/><g class=\"g-ytitle\" transform=\"translate(1.8623046875,0)\"><text class=\"ytitle\" transform=\"rotate(-90,12.137499999999989,240)\" x=\"12.137499999999989\" y=\"240\" text-anchor=\"middle\" style=\"font-family: 'Open Sans', verdana, arial, sans-serif; font-size: 14px; fill: rgb(42, 63, 95); opacity: 1; font-weight: normal; white-space: pre;\">stage</text></g></g></svg>"
      ]
     },
     "metadata": {},
     "output_type": "display_data"
    }
   ],
   "source": [
    "import plotly.express as px\n",
    "data = dict(\n",
    "    number=[users.count()[0],home_page.count()[0], search_page.count()[0], payment_page.count()[0], payment_confirmation.count()[0]],\n",
    "    stage=[\"Users\", \"Home Page\", \"Search Page\", \"Payment Page\", \"Payment confirmation\"])\n",
    "fig = px.funnel(data, x='number', y='stage')\n",
    "fig.show(\"svg\")"
   ]
  },
  {
   "cell_type": "markdown",
   "id": "81eac8d5",
   "metadata": {},
   "source": [
    "#### As we can see that the conversion rate is only 0.5%. Need to Analyse for other factors."
   ]
  },
  {
   "cell_type": "markdown",
   "id": "9972ca34",
   "metadata": {},
   "source": [
    "### Joining all the datasets with users."
   ]
  },
  {
   "cell_type": "code",
   "execution_count": 41,
   "id": "d2a11a43",
   "metadata": {},
   "outputs": [],
   "source": [
    "p = pd.merge(users,home_page, on='user_id', how='right')\n",
    "c = pd.merge(users,search_page, on='user_id', how='right')\n",
    "s = pd.merge(users,payment_page, on='user_id', how='right')\n",
    "t = pd.merge(users,payment_confirmation, on='user_id', how='right')"
   ]
  },
  {
   "cell_type": "markdown",
   "id": "70d7ed72",
   "metadata": {},
   "source": [
    "### Analysing on the basis of Sex."
   ]
  },
  {
   "cell_type": "code",
   "execution_count": 42,
   "id": "b655cfd3",
   "metadata": {},
   "outputs": [
    {
     "data": {
      "image/svg+xml": [
       "<svg class=\"main-svg\" xmlns=\"http://www.w3.org/2000/svg\" xmlns:xlink=\"http://www.w3.org/1999/xlink\" width=\"700\" height=\"500\" style=\"\" viewBox=\"0 0 700 500\"><rect x=\"0\" y=\"0\" width=\"700\" height=\"500\" style=\"fill: rgb(255, 255, 255); fill-opacity: 1;\"/><defs id=\"defs-0200b7\"><g class=\"clips\"><clipPath id=\"clip0200b7xyplot\" class=\"plotclip\"><rect width=\"414\" height=\"320\"/></clipPath><clipPath class=\"axesclip\" id=\"clip0200b7x\"><rect x=\"177\" y=\"0\" width=\"414\" height=\"500\"/></clipPath><clipPath class=\"axesclip\" id=\"clip0200b7y\"><rect x=\"0\" y=\"100\" width=\"700\" height=\"320\"/></clipPath><clipPath class=\"axesclip\" id=\"clip0200b7xy\"><rect x=\"177\" y=\"100\" width=\"414\" height=\"320\"/></clipPath></g><g class=\"gradients\"/><g class=\"patterns\"/></defs><g class=\"bglayer\"/><g class=\"layer-below\"><g class=\"imagelayer\"/><g class=\"shapelayer\"/></g><g class=\"cartesianlayer\"><g class=\"subplot xy\"><g class=\"layer-subplot\"><g class=\"shapelayer\"/><g class=\"imagelayer\"/></g><g class=\"gridlayer\"><g class=\"x\"/><g class=\"y\"/></g><g class=\"zerolinelayer\"/><path class=\"xlines-below\"/><path class=\"ylines-below\"/><g class=\"overlines-below\"/><g class=\"xaxislayer-below\"/><g class=\"yaxislayer-below\"/><g class=\"overaxes-below\"/><g class=\"plot\" transform=\"translate(177,100)\" clip-path=\"url(#clip0200b7xyplot)\"><g class=\"funnellayer mlayer\"><g class=\"trace bars\" style=\"opacity: 1;\"><g class=\"regions\"><g class=\"region\"><path d=\"M20.7,72L113.85,88H206.69L207.52,72Z\" style=\"stroke-width: 0; fill: rgb(44, 160, 44); fill-opacity: 0.5;\"/></g><g class=\"region\"><path d=\"M113.85,152L194.57,168H206.65L206.69,152Z\" style=\"stroke-width: 0; fill: rgb(44, 160, 44); fill-opacity: 0.5;\"/></g><g class=\"region\"><path d=\"M194.57,232L206.07,248H206.94L206.65,232Z\" style=\"stroke-width: 0; fill: rgb(44, 160, 44); fill-opacity: 0.5;\"/></g><g class=\"region\"><path d=\"M0,0Z\" style=\"stroke-width: 0; fill: rgb(44, 160, 44); fill-opacity: 0.5;\"/></g></g><g class=\"points\"><g class=\"point\"><path d=\"M20.7,8V72H207.52V8Z\" style=\"vector-effect: non-scaling-stroke; fill: rgb(44, 160, 44); fill-opacity: 1; stroke: rgb(68, 68, 68); stroke-opacity: 1; stroke-width: 0px; opacity: 1;\"/><text class=\"bartext bartext-inside\" text-anchor=\"middle\" data-notex=\"1\" x=\"0\" y=\"0\" style=\"font-family: 'Open Sans', verdana, arial, sans-serif; font-size: 12px; fill: rgb(255, 255, 255); fill-opacity: 1; white-space: pre;\" transform=\"translate(113.656875,44.5)\">45.325k</text></g><g class=\"point\"><path d=\"M113.85,88V152H206.69V88Z\" style=\"vector-effect: non-scaling-stroke; fill: rgb(44, 160, 44); fill-opacity: 1; stroke: rgb(68, 68, 68); stroke-opacity: 1; stroke-width: 0px; opacity: 1;\"/><text class=\"bartext bartext-inside\" text-anchor=\"middle\" data-notex=\"1\" x=\"0\" y=\"0\" style=\"font-family: 'Open Sans', verdana, arial, sans-serif; font-size: 12px; fill: rgb(255, 255, 255); fill-opacity: 1; white-space: pre;\" transform=\"translate(159.81687499999998,124.5)\">22.524k</text></g><g class=\"point\"><path d=\"M194.57,168V232H206.65V168Z\" style=\"vector-effect: non-scaling-stroke; fill: rgb(44, 160, 44); fill-opacity: 1; stroke: rgb(68, 68, 68); stroke-opacity: 1; stroke-width: 0px; opacity: 1;\"/><text class=\"bartext bartext-inside\" text-anchor=\"middle\" data-notex=\"1\" x=\"0\" y=\"0\" style=\"font-family: 'Open Sans', verdana, arial, sans-serif; font-size: 12px; fill: rgb(255, 255, 255); fill-opacity: 1; white-space: pre;\" transform=\"translate(200.57311425682508,200.88525783619818)scale(0.19672396359959596)\">2930</text></g><g class=\"point\"><path d=\"M206.07,248V312H206.94V248Z\" style=\"vector-effect: non-scaling-stroke; fill: rgb(44, 160, 44); fill-opacity: 1; stroke: rgb(68, 68, 68); stroke-opacity: 1; stroke-width: 0px; opacity: 1;\"/><text class=\"bartext bartext-inside\" text-anchor=\"middle\" data-notex=\"1\" x=\"0\" y=\"0\" style=\"font-family: 'Open Sans', verdana, arial, sans-serif; font-size: 12px; fill: rgb(255, 255, 255); fill-opacity: 1; white-space: pre;\" transform=\"translate(206.505,280.17091405184175)scale(0.037980900409277145)\">211</text></g></g></g><g class=\"trace bars\" style=\"opacity: 1;\"><g class=\"regions\"><g class=\"region\"><path d=\"M207.52,72L206.69,88H300.15L393.3,72Z\" style=\"stroke-width: 0; fill: rgb(214, 39, 40); fill-opacity: 0.5;\"/></g><g class=\"region\"><path d=\"M206.69,152L206.65,168H219.43L300.15,152Z\" style=\"stroke-width: 0; fill: rgb(214, 39, 40); fill-opacity: 0.5;\"/></g><g class=\"region\"><path d=\"M206.65,232L206.94,248H207.93L219.43,232Z\" style=\"stroke-width: 0; fill: rgb(214, 39, 40); fill-opacity: 0.5;\"/></g><g class=\"region\"><path d=\"M0,0Z\" style=\"stroke-width: 0; fill: rgb(214, 39, 40); fill-opacity: 0.5;\"/></g></g><g class=\"points\"><g class=\"point\"><path d=\"M207.52,8V72H393.3V8Z\" style=\"vector-effect: non-scaling-stroke; fill: rgb(214, 39, 40); fill-opacity: 1; stroke: rgb(68, 68, 68); stroke-opacity: 1; stroke-width: 0px; opacity: 1;\"/><text class=\"bartext bartext-inside\" text-anchor=\"middle\" data-notex=\"1\" x=\"0\" y=\"0\" style=\"font-family: 'Open Sans', verdana, arial, sans-serif; font-size: 12px; fill: rgb(255, 255, 255); fill-opacity: 1; white-space: pre;\" transform=\"translate(299.956875,44.5)\">45.075k</text></g><g class=\"point\"><path d=\"M206.69,88V152H300.15V88Z\" style=\"vector-effect: non-scaling-stroke; fill: rgb(214, 39, 40); fill-opacity: 1; stroke: rgb(68, 68, 68); stroke-opacity: 1; stroke-width: 0px; opacity: 1;\"/><text class=\"bartext bartext-inside\" text-anchor=\"middle\" data-notex=\"1\" x=\"0\" y=\"0\" style=\"font-family: 'Open Sans', verdana, arial, sans-serif; font-size: 12px; fill: rgb(255, 255, 255); fill-opacity: 1; white-space: pre;\" transform=\"translate(252.966875,124.5)\">22.676k</text></g><g class=\"point\"><path d=\"M206.65,168V232H219.43V168Z\" style=\"vector-effect: non-scaling-stroke; fill: rgb(214, 39, 40); fill-opacity: 1; stroke: rgb(68, 68, 68); stroke-opacity: 1; stroke-width: 0px; opacity: 1;\"/><text class=\"bartext bartext-outside\" text-anchor=\"middle\" data-notex=\"1\" x=\"0\" y=\"0\" style=\"font-family: 'Open Sans', verdana, arial, sans-serif; font-size: 12px; fill: rgb(36, 36, 36); fill-opacity: 1; white-space: pre;\" transform=\"translate(237.695625,204.5)\">3100</text></g><g class=\"point\"><path d=\"M206.94,248V312H207.93V248Z\" style=\"vector-effect: non-scaling-stroke; fill: rgb(214, 39, 40); fill-opacity: 1; stroke: rgb(68, 68, 68); stroke-opacity: 1; stroke-width: 0px; opacity: 1;\"/><text class=\"bartext bartext-outside\" text-anchor=\"middle\" data-notex=\"1\" x=\"0\" y=\"0\" style=\"font-family: 'Open Sans', verdana, arial, sans-serif; font-size: 12px; fill: rgb(36, 36, 36); fill-opacity: 1; white-space: pre;\" transform=\"translate(222.383125,284.5)\">241</text></g></g></g></g></g><g class=\"overplot\"/><path class=\"xlines-above crisp\" d=\"M0,0\" style=\"fill: none;\"/><path class=\"ylines-above crisp\" d=\"M176.5,100V420\" style=\"fill: none; stroke-width: 1px; stroke: rgb(36, 36, 36); stroke-opacity: 1;\"/><g class=\"overlines-above\"/><g class=\"xaxislayer-above\"/><g class=\"yaxislayer-above\"><path class=\"ytick ticks crisp\" d=\"M176,0h-5\" transform=\"translate(0,380)\" style=\"stroke: rgb(68, 68, 68); stroke-opacity: 1; stroke-width: 1px;\"/><path class=\"ytick ticks crisp\" d=\"M176,0h-5\" transform=\"translate(0,300)\" style=\"stroke: rgb(68, 68, 68); stroke-opacity: 1; stroke-width: 1px;\"/><path class=\"ytick ticks crisp\" d=\"M176,0h-5\" transform=\"translate(0,220)\" style=\"stroke: rgb(68, 68, 68); stroke-opacity: 1; stroke-width: 1px;\"/><path class=\"ytick ticks crisp\" d=\"M176,0h-5\" transform=\"translate(0,140)\" style=\"stroke: rgb(68, 68, 68); stroke-opacity: 1; stroke-width: 1px;\"/><g class=\"ytick\"><text text-anchor=\"end\" x=\"168.6\" y=\"4.199999999999999\" transform=\"translate(0,380)\" style=\"font-family: 'Open Sans', verdana, arial, sans-serif; font-size: 12px; fill: rgb(36, 36, 36); fill-opacity: 1; white-space: pre; opacity: 1;\">Payment confirmation</text></g><g class=\"ytick\"><text text-anchor=\"end\" x=\"168.6\" y=\"4.199999999999999\" transform=\"translate(0,300)\" style=\"font-family: 'Open Sans', verdana, arial, sans-serif; font-size: 12px; fill: rgb(36, 36, 36); fill-opacity: 1; white-space: pre; opacity: 1;\">Payment Page</text></g><g class=\"ytick\"><text text-anchor=\"end\" x=\"168.6\" y=\"4.199999999999999\" transform=\"translate(0,220)\" style=\"font-family: 'Open Sans', verdana, arial, sans-serif; font-size: 12px; fill: rgb(36, 36, 36); fill-opacity: 1; white-space: pre; opacity: 1;\">Search Page</text></g><g class=\"ytick\"><text text-anchor=\"end\" x=\"168.6\" y=\"4.199999999999999\" transform=\"translate(0,140)\" style=\"font-family: 'Open Sans', verdana, arial, sans-serif; font-size: 12px; fill: rgb(36, 36, 36); fill-opacity: 1; white-space: pre; opacity: 1;\">Home Page</text></g></g><g class=\"overaxes-above\"/></g></g><g class=\"polarlayer\"/><g class=\"smithlayer\"/><g class=\"ternarylayer\"/><g class=\"geolayer\"/><g class=\"funnelarealayer\"/><g class=\"pielayer\"/><g class=\"iciclelayer\"/><g class=\"treemaplayer\"/><g class=\"sunburstlayer\"/><g class=\"glimages\"/><defs id=\"topdefs-0200b7\"><g class=\"clips\"/><clipPath id=\"legend0200b7\"><rect width=\"89\" height=\"67\" x=\"0\" y=\"0\"/></clipPath></defs><g class=\"layer-above\"><g class=\"imagelayer\"/><g class=\"shapelayer\"/></g><g class=\"infolayer\"><g class=\"legend\" pointer-events=\"all\" transform=\"translate(599.28,100)\"><rect class=\"bg\" shape-rendering=\"crispEdges\" width=\"89\" height=\"67\" x=\"0\" y=\"0\" style=\"stroke: rgb(68, 68, 68); stroke-opacity: 1; fill: rgb(255, 255, 255); fill-opacity: 1; stroke-width: 0px;\"/><g class=\"scrollbox\" transform=\"\" clip-path=\"url(#legend0200b7)\"><text class=\"legendtitletext\" text-anchor=\"start\" x=\"2\" y=\"18.2\" style=\"font-family: 'Open Sans', verdana, arial, sans-serif; font-size: 14px; fill: rgb(36, 36, 36); fill-opacity: 1; white-space: pre;\">Sex</text><g class=\"groups\" transform=\"\"><g class=\"traces\" transform=\"translate(0,32.7)\" style=\"opacity: 1;\"><text class=\"legendtext\" text-anchor=\"start\" x=\"40\" y=\"4.680000000000001\" style=\"font-family: 'Open Sans', verdana, arial, sans-serif; font-size: 12px; fill: rgb(36, 36, 36); fill-opacity: 1; white-space: pre;\">Male</text><g class=\"layers\" style=\"opacity: 1;\"><g class=\"legendfill\"/><g class=\"legendlines\"/><g class=\"legendsymbols\"><g class=\"legendpoints\"><path class=\"legendfunnel\" d=\"M6,6H-6V-6H6Z\" transform=\"translate(20,0)\" style=\"stroke-width: 0px; fill: rgb(44, 160, 44); fill-opacity: 1;\"/></g></g></g><rect class=\"legendtoggle\" x=\"0\" y=\"-9.5\" width=\"83.078125\" height=\"19\" style=\"fill: rgb(0, 0, 0); fill-opacity: 0;\"/></g></g><g class=\"groups\" transform=\"\"><g class=\"traces\" transform=\"translate(0,51.7)\" style=\"opacity: 1;\"><text class=\"legendtext\" text-anchor=\"start\" x=\"40\" y=\"4.680000000000001\" style=\"font-family: 'Open Sans', verdana, arial, sans-serif; font-size: 12px; fill: rgb(36, 36, 36); fill-opacity: 1; white-space: pre;\">Female</text><g class=\"layers\" style=\"opacity: 1;\"><g class=\"legendfill\"/><g class=\"legendlines\"/><g class=\"legendsymbols\"><g class=\"legendpoints\"><path class=\"legendfunnel\" d=\"M6,6H-6V-6H6Z\" transform=\"translate(20,0)\" style=\"stroke-width: 0px; fill: rgb(214, 39, 40); fill-opacity: 1;\"/></g></g></g><rect class=\"legendtoggle\" x=\"0\" y=\"-9.5\" width=\"83.078125\" height=\"19\" style=\"fill: rgb(0, 0, 0); fill-opacity: 0;\"/></g></g></g><rect class=\"scrollbar\" rx=\"20\" ry=\"3\" width=\"0\" height=\"0\" x=\"0\" y=\"0\" style=\"fill: rgb(128, 139, 164); fill-opacity: 1;\"/></g><g class=\"g-gtitle\"><text class=\"gtitle\" x=\"35\" y=\"50\" text-anchor=\"start\" dy=\"0em\" style=\"font-family: 'Open Sans', verdana, arial, sans-serif; font-size: 17px; fill: rgb(36, 36, 36); opacity: 1; font-weight: normal; white-space: pre;\">User conversion chart on the basis of Sex</text></g><g class=\"g-ytitle\"/></g></svg>"
      ]
     },
     "metadata": {},
     "output_type": "display_data"
    }
   ],
   "source": [
    "data = dict(Quantity=[p[p['sex']=='Male'].count()[0],c[c['sex']=='Male'].count()[0],s[s['sex']=='Male'].count()[0],t[t['sex']=='Male'].count()[0],p[p['sex']=='Female'].count()[0],c[c['sex']=='Female'].count()[0],s[s['sex']=='Female'].count()[0],t[t['sex']=='Female'].count()[0]],\n",
    "    \n",
    "            Stage=[\"Home Page\", \"Search Page\", \"Payment Page\",\"Payment confirmation\"]*2,\n",
    "    \n",
    "            Sex=['Male']*4 + ['Female']*4)\n",
    "    \n",
    "fig = px.funnel(data, y='Stage', x='Quantity', color='Sex',\n",
    "                color_discrete_map={\"Tatooine\": \"#374B53\", \n",
    "                                    \"Mandalore\": \"#617588\"},\n",
    "                template=\"simple_white\",\n",
    "                title='User conversion chart on the basis of Sex',\n",
    "                labels={\"Stage\": \"\"})\n",
    "fig.show(\"svg\")"
   ]
  },
  {
   "cell_type": "markdown",
   "id": "5157627f",
   "metadata": {},
   "source": [
    "#### As we can see sex does not have any such impact on conversion rate, the ratio of both sexes is quite equal. Now we will check if device can provide us some conclusive detail."
   ]
  },
  {
   "cell_type": "code",
   "execution_count": 43,
   "id": "52418933",
   "metadata": {},
   "outputs": [
    {
     "data": {
      "image/svg+xml": [
       "<svg class=\"main-svg\" xmlns=\"http://www.w3.org/2000/svg\" xmlns:xlink=\"http://www.w3.org/1999/xlink\" width=\"700\" height=\"500\" style=\"\" viewBox=\"0 0 700 500\"><rect x=\"0\" y=\"0\" width=\"700\" height=\"500\" style=\"fill: rgb(255, 255, 255); fill-opacity: 1;\"/><defs id=\"defs-2dbca2\"><g class=\"clips\"><clipPath id=\"clip2dbca2xyplot\" class=\"plotclip\"><rect width=\"408\" height=\"320\"/></clipPath><clipPath class=\"axesclip\" id=\"clip2dbca2x\"><rect x=\"177\" y=\"0\" width=\"408\" height=\"500\"/></clipPath><clipPath class=\"axesclip\" id=\"clip2dbca2y\"><rect x=\"0\" y=\"100\" width=\"700\" height=\"320\"/></clipPath><clipPath class=\"axesclip\" id=\"clip2dbca2xy\"><rect x=\"177\" y=\"100\" width=\"408\" height=\"320\"/></clipPath></g><g class=\"gradients\"/><g class=\"patterns\"/></defs><g class=\"bglayer\"/><g class=\"layer-below\"><g class=\"imagelayer\"/><g class=\"shapelayer\"/></g><g class=\"cartesianlayer\"><g class=\"subplot xy\"><g class=\"layer-subplot\"><g class=\"shapelayer\"/><g class=\"imagelayer\"/></g><g class=\"gridlayer\"><g class=\"x\"/><g class=\"y\"/></g><g class=\"zerolinelayer\"/><path class=\"xlines-below\"/><path class=\"ylines-below\"/><g class=\"overlines-below\"/><g class=\"xaxislayer-below\"/><g class=\"yaxislayer-below\"/><g class=\"overaxes-below\"/><g class=\"plot\" transform=\"translate(177,100)\" clip-path=\"url(#clip2dbca2xyplot)\"><g class=\"funnellayer mlayer\"><g class=\"trace bars\" style=\"opacity: 1;\"><g class=\"regions\"><g class=\"region\"><path d=\"M20.4,72L112.2,88H234.46L264.93,72Z\" style=\"stroke-width: 0; fill: rgb(44, 160, 44); fill-opacity: 0.5;\"/></g><g class=\"region\"><path d=\"M112.2,152L191.75,168H203.98L234.46,152Z\" style=\"stroke-width: 0; fill: rgb(44, 160, 44); fill-opacity: 0.5;\"/></g><g class=\"region\"><path d=\"M191.75,232L203.08,248H203.69L203.98,232Z\" style=\"stroke-width: 0; fill: rgb(44, 160, 44); fill-opacity: 0.5;\"/></g><g class=\"region\"><path d=\"M0,0Z\" style=\"stroke-width: 0; fill: rgb(44, 160, 44); fill-opacity: 0.5;\"/></g></g><g class=\"points\"><g class=\"point\"><path d=\"M20.4,8V72H264.93V8Z\" style=\"vector-effect: non-scaling-stroke; fill: rgb(44, 160, 44); fill-opacity: 1; stroke: rgb(68, 68, 68); stroke-opacity: 1; stroke-width: 0px; opacity: 1;\"/><text class=\"bartext bartext-inside\" text-anchor=\"middle\" data-notex=\"1\" x=\"0\" y=\"0\" style=\"font-family: 'Open Sans', verdana, arial, sans-serif; font-size: 12px; fill: rgb(255, 255, 255); fill-opacity: 1; white-space: pre;\" transform=\"translate(142.2196875,44.5)\">60.2k</text></g><g class=\"point\"><path d=\"M112.2,88V152H234.46V88Z\" style=\"vector-effect: non-scaling-stroke; fill: rgb(44, 160, 44); fill-opacity: 1; stroke: rgb(68, 68, 68); stroke-opacity: 1; stroke-width: 0px; opacity: 1;\"/><text class=\"bartext bartext-inside\" text-anchor=\"middle\" data-notex=\"1\" x=\"0\" y=\"0\" style=\"font-family: 'Open Sans', verdana, arial, sans-serif; font-size: 12px; fill: rgb(255, 255, 255); fill-opacity: 1; white-space: pre;\" transform=\"translate(172.8846875,124.5)\">30.1k</text></g><g class=\"point\"><path d=\"M191.75,168V232H203.98V168Z\" style=\"vector-effect: non-scaling-stroke; fill: rgb(44, 160, 44); fill-opacity: 1; stroke: rgb(68, 68, 68); stroke-opacity: 1; stroke-width: 0px; opacity: 1;\"/><text class=\"bartext bartext-inside\" text-anchor=\"middle\" data-notex=\"1\" x=\"0\" y=\"0\" style=\"font-family: 'Open Sans', verdana, arial, sans-serif; font-size: 12px; fill: rgb(255, 255, 255); fill-opacity: 1; white-space: pre;\" transform=\"translate(197.82720424671385,200.90709807886753)scale(0.20157735085945366)\">3010</text></g><g class=\"point\"><path d=\"M203.08,248V312H203.69V248Z\" style=\"vector-effect: non-scaling-stroke; fill: rgb(44, 160, 44); fill-opacity: 1; stroke: rgb(68, 68, 68); stroke-opacity: 1; stroke-width: 0px; opacity: 1;\"/><text class=\"bartext bartext-inside\" text-anchor=\"middle\" data-notex=\"1\" x=\"0\" y=\"0\" style=\"font-family: 'Open Sans', verdana, arial, sans-serif; font-size: 12px; fill: rgb(255, 255, 255); fill-opacity: 1; white-space: pre;\" transform=\"translate(203.38008724832213,280.11790604026845)scale(0.02620134228187856)\">150</text></g></g></g><g class=\"trace bars\" style=\"opacity: 1;\"><g class=\"regions\"><g class=\"region\"><path d=\"M264.93,72L234.46,88H295.8L387.6,72Z\" style=\"stroke-width: 0; fill: rgb(214, 39, 40); fill-opacity: 0.5;\"/></g><g class=\"region\"><path d=\"M234.46,152L203.98,168H216.25L295.8,152Z\" style=\"stroke-width: 0; fill: rgb(214, 39, 40); fill-opacity: 0.5;\"/></g><g class=\"region\"><path d=\"M203.98,232L203.69,248H204.92L216.25,232Z\" style=\"stroke-width: 0; fill: rgb(214, 39, 40); fill-opacity: 0.5;\"/></g><g class=\"region\"><path d=\"M0,0Z\" style=\"stroke-width: 0; fill: rgb(214, 39, 40); fill-opacity: 0.5;\"/></g></g><g class=\"points\"><g class=\"point\"><path d=\"M264.93,8V72H387.6V8Z\" style=\"vector-effect: non-scaling-stroke; fill: rgb(214, 39, 40); fill-opacity: 1; stroke: rgb(68, 68, 68); stroke-opacity: 1; stroke-width: 0px; opacity: 1;\"/><text class=\"bartext bartext-inside\" text-anchor=\"middle\" data-notex=\"1\" x=\"0\" y=\"0\" style=\"font-family: 'Open Sans', verdana, arial, sans-serif; font-size: 12px; fill: rgb(255, 255, 255); fill-opacity: 1; white-space: pre;\" transform=\"translate(325.8196875,44.5)\">30.2k</text></g><g class=\"point\"><path d=\"M234.46,88V152H295.8V88Z\" style=\"vector-effect: non-scaling-stroke; fill: rgb(214, 39, 40); fill-opacity: 1; stroke: rgb(68, 68, 68); stroke-opacity: 1; stroke-width: 0px; opacity: 1;\"/><text class=\"bartext bartext-inside\" text-anchor=\"middle\" data-notex=\"1\" x=\"0\" y=\"0\" style=\"font-family: 'Open Sans', verdana, arial, sans-serif; font-size: 12px; fill: rgb(255, 255, 255); fill-opacity: 1; white-space: pre;\" transform=\"translate(264.6846875,124.5)\">15.1k</text></g><g class=\"point\"><path d=\"M203.98,168V232H216.25V168Z\" style=\"vector-effect: non-scaling-stroke; fill: rgb(214, 39, 40); fill-opacity: 1; stroke: rgb(68, 68, 68); stroke-opacity: 1; stroke-width: 0px; opacity: 1;\"/><text class=\"bartext bartext-outside\" text-anchor=\"middle\" data-notex=\"1\" x=\"0\" y=\"0\" style=\"font-family: 'Open Sans', verdana, arial, sans-serif; font-size: 12px; fill: rgb(36, 36, 36); fill-opacity: 1; white-space: pre;\" transform=\"translate(234.515625,204.5)\">3020</text></g><g class=\"point\"><path d=\"M203.69,248V312H204.92V248Z\" style=\"vector-effect: non-scaling-stroke; fill: rgb(214, 39, 40); fill-opacity: 1; stroke: rgb(68, 68, 68); stroke-opacity: 1; stroke-width: 0px; opacity: 1;\"/><text class=\"bartext bartext-outside\" text-anchor=\"middle\" data-notex=\"1\" x=\"0\" y=\"0\" style=\"font-family: 'Open Sans', verdana, arial, sans-serif; font-size: 12px; fill: rgb(36, 36, 36); fill-opacity: 1; white-space: pre;\" transform=\"translate(219.373125,284.5)\">302</text></g></g></g></g></g><g class=\"overplot\"/><path class=\"xlines-above crisp\" d=\"M0,0\" style=\"fill: none;\"/><path class=\"ylines-above crisp\" d=\"M176.5,100V420\" style=\"fill: none; stroke-width: 1px; stroke: rgb(36, 36, 36); stroke-opacity: 1;\"/><g class=\"overlines-above\"/><g class=\"xaxislayer-above\"/><g class=\"yaxislayer-above\"><path class=\"ytick ticks crisp\" d=\"M176,0h-5\" transform=\"translate(0,380)\" style=\"stroke: rgb(68, 68, 68); stroke-opacity: 1; stroke-width: 1px;\"/><path class=\"ytick ticks crisp\" d=\"M176,0h-5\" transform=\"translate(0,300)\" style=\"stroke: rgb(68, 68, 68); stroke-opacity: 1; stroke-width: 1px;\"/><path class=\"ytick ticks crisp\" d=\"M176,0h-5\" transform=\"translate(0,220)\" style=\"stroke: rgb(68, 68, 68); stroke-opacity: 1; stroke-width: 1px;\"/><path class=\"ytick ticks crisp\" d=\"M176,0h-5\" transform=\"translate(0,140)\" style=\"stroke: rgb(68, 68, 68); stroke-opacity: 1; stroke-width: 1px;\"/><g class=\"ytick\"><text text-anchor=\"end\" x=\"168.6\" y=\"4.199999999999999\" transform=\"translate(0,380)\" style=\"font-family: 'Open Sans', verdana, arial, sans-serif; font-size: 12px; fill: rgb(36, 36, 36); fill-opacity: 1; white-space: pre; opacity: 1;\">Payment confirmation</text></g><g class=\"ytick\"><text text-anchor=\"end\" x=\"168.6\" y=\"4.199999999999999\" transform=\"translate(0,300)\" style=\"font-family: 'Open Sans', verdana, arial, sans-serif; font-size: 12px; fill: rgb(36, 36, 36); fill-opacity: 1; white-space: pre; opacity: 1;\">Payment Page</text></g><g class=\"ytick\"><text text-anchor=\"end\" x=\"168.6\" y=\"4.199999999999999\" transform=\"translate(0,220)\" style=\"font-family: 'Open Sans', verdana, arial, sans-serif; font-size: 12px; fill: rgb(36, 36, 36); fill-opacity: 1; white-space: pre; opacity: 1;\">Search Page</text></g><g class=\"ytick\"><text text-anchor=\"end\" x=\"168.6\" y=\"4.199999999999999\" transform=\"translate(0,140)\" style=\"font-family: 'Open Sans', verdana, arial, sans-serif; font-size: 12px; fill: rgb(36, 36, 36); fill-opacity: 1; white-space: pre; opacity: 1;\">Home Page</text></g></g><g class=\"overaxes-above\"/></g></g><g class=\"polarlayer\"/><g class=\"smithlayer\"/><g class=\"ternarylayer\"/><g class=\"geolayer\"/><g class=\"funnelarealayer\"/><g class=\"pielayer\"/><g class=\"iciclelayer\"/><g class=\"treemaplayer\"/><g class=\"sunburstlayer\"/><g class=\"glimages\"/><defs id=\"topdefs-2dbca2\"><g class=\"clips\"/><clipPath id=\"legend2dbca2\"><rect width=\"95\" height=\"67\" x=\"0\" y=\"0\"/></clipPath></defs><g class=\"layer-above\"><g class=\"imagelayer\"/><g class=\"shapelayer\"/></g><g class=\"infolayer\"><g class=\"legend\" pointer-events=\"all\" transform=\"translate(593.1600000000001,100)\"><rect class=\"bg\" shape-rendering=\"crispEdges\" width=\"95\" height=\"67\" x=\"0\" y=\"0\" style=\"stroke: rgb(68, 68, 68); stroke-opacity: 1; fill: rgb(255, 255, 255); fill-opacity: 1; stroke-width: 0px;\"/><g class=\"scrollbox\" transform=\"\" clip-path=\"url(#legend2dbca2)\"><text class=\"legendtitletext\" text-anchor=\"start\" x=\"2\" y=\"18.2\" style=\"font-family: 'Open Sans', verdana, arial, sans-serif; font-size: 14px; fill: rgb(36, 36, 36); fill-opacity: 1; white-space: pre;\">Device</text><g class=\"groups\" transform=\"\"><g class=\"traces\" transform=\"translate(0,32.7)\" style=\"opacity: 1;\"><text class=\"legendtext\" text-anchor=\"start\" x=\"40\" y=\"4.680000000000001\" style=\"font-family: 'Open Sans', verdana, arial, sans-serif; font-size: 12px; fill: rgb(36, 36, 36); fill-opacity: 1; white-space: pre;\">Desktop</text><g class=\"layers\" style=\"opacity: 1;\"><g class=\"legendfill\"/><g class=\"legendlines\"/><g class=\"legendsymbols\"><g class=\"legendpoints\"><path class=\"legendfunnel\" d=\"M6,6H-6V-6H6Z\" transform=\"translate(20,0)\" style=\"stroke-width: 0px; fill: rgb(44, 160, 44); fill-opacity: 1;\"/></g></g></g><rect class=\"legendtoggle\" x=\"0\" y=\"-9.5\" width=\"89.765625\" height=\"19\" style=\"fill: rgb(0, 0, 0); fill-opacity: 0;\"/></g></g><g class=\"groups\" transform=\"\"><g class=\"traces\" transform=\"translate(0,51.7)\" style=\"opacity: 1;\"><text class=\"legendtext\" text-anchor=\"start\" x=\"40\" y=\"4.680000000000001\" style=\"font-family: 'Open Sans', verdana, arial, sans-serif; font-size: 12px; fill: rgb(36, 36, 36); fill-opacity: 1; white-space: pre;\">Mobile</text><g class=\"layers\" style=\"opacity: 1;\"><g class=\"legendfill\"/><g class=\"legendlines\"/><g class=\"legendsymbols\"><g class=\"legendpoints\"><path class=\"legendfunnel\" d=\"M6,6H-6V-6H6Z\" transform=\"translate(20,0)\" style=\"stroke-width: 0px; fill: rgb(214, 39, 40); fill-opacity: 1;\"/></g></g></g><rect class=\"legendtoggle\" x=\"0\" y=\"-9.5\" width=\"89.765625\" height=\"19\" style=\"fill: rgb(0, 0, 0); fill-opacity: 0;\"/></g></g></g><rect class=\"scrollbar\" rx=\"20\" ry=\"3\" width=\"0\" height=\"0\" x=\"0\" y=\"0\" style=\"fill: rgb(128, 139, 164); fill-opacity: 1;\"/></g><g class=\"g-gtitle\"><text class=\"gtitle\" x=\"35\" y=\"50\" text-anchor=\"start\" dy=\"0em\" style=\"font-family: 'Open Sans', verdana, arial, sans-serif; font-size: 17px; fill: rgb(36, 36, 36); opacity: 1; font-weight: normal; white-space: pre;\">User conversion chart on the basis of Device</text></g><g class=\"g-ytitle\"/></g></svg>"
      ]
     },
     "metadata": {},
     "output_type": "display_data"
    }
   ],
   "source": [
    "data = dict(Quantity=[p[p['device']=='Desktop'].count()[0],c[c['device']=='Desktop'].count()[0],s[s['device']=='Desktop'].count()[0],t[t['device']=='Desktop'].count()[0],p[p['device']=='Mobile'].count()[0],c[c['device']=='Mobile'].count()[0],s[s['device']=='Mobile'].count()[0],t[t['device']=='Mobile'].count()[0]],\n",
    "    \n",
    "            Stage=[\"Home Page\", \"Search Page\", \"Payment Page\",\"Payment confirmation\"]*2,\n",
    "    \n",
    "            Device=['Desktop']*4 + ['Mobile']*4)\n",
    "    \n",
    "fig = px.funnel(data, y='Stage', x='Quantity', color='Device',\n",
    "                color_discrete_map={\"Tatooine\": \"#374B53\", \n",
    "                                    \"Mandalore\": \"#617588\"},\n",
    "                template=\"simple_white\",\n",
    "                title='User conversion chart on the basis of Device',\n",
    "                labels={\"Stage\": \"\"})\n",
    "fig.show(\"svg\")\n"
   ]
  },
  {
   "cell_type": "markdown",
   "id": "b74ccc38",
   "metadata": {},
   "source": [
    "### So, almost 2/3 users are desktop users however, the conversion rate of mobile app users is twice more than desktop users."
   ]
  },
  {
   "cell_type": "markdown",
   "id": "85a4ace3",
   "metadata": {},
   "source": [
    "- ### The product team need to focus on the experience of their Desktop users specially on the payment page, as we have seen that both desktop and mobile app user's ratio was same on payment page but mobile app users confirmed payment twice more than desktop users."
   ]
  },
  {
   "cell_type": "code",
   "execution_count": null,
   "id": "582c7dee",
   "metadata": {},
   "outputs": [],
   "source": []
  }
 ],
 "metadata": {
  "kernelspec": {
   "display_name": "Python 3",
   "language": "python",
   "name": "python3"
  },
  "language_info": {
   "codemirror_mode": {
    "name": "ipython",
    "version": 3
   },
   "file_extension": ".py",
   "mimetype": "text/x-python",
   "name": "python",
   "nbconvert_exporter": "python",
   "pygments_lexer": "ipython3",
   "version": "3.8.8"
  }
 },
 "nbformat": 4,
 "nbformat_minor": 5
}
